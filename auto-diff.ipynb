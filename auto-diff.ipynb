{
 "cells": [
  {
   "cell_type": "markdown",
   "id": "219f21fa-b371-47f6-8c2b-2de7d28da43a",
   "metadata": {},
   "source": [
    "**Automatic differentiation (autodiff)** is a technique to compute derivatives (gradients) of functions efficiently and accurately. It is a core part of many machine learning frameworks (like PyTorch, TensorFlow, and JAX) and is especially useful for training neural networks using gradient-based optimisation methods such as **stochastic gradient descent**.\n",
    "\n",
    "\n",
    "### What is it?\n",
    "\n",
    "Unlike symbolic differentiation (like in SymPy) or numerical differentiation (finite differences), autodiff works by **decomposing functions into a sequence of operations** and **applying the chain rule** automatically. It avoids rounding errors from numerical differentiation and the complexity of symbolic derivatives.\n",
    "\n",
    "There are two main modes:\n",
    "- **Forward mode** (good when input dimension is small)\n",
    "- **Reverse mode** (used in ML, good when output dimension is small—like loss functions)\n",
    "\n",
    "\n",
    "### How is auto-diff used in machine learning\n",
    "\n",
    "In machine learning, we often define a **loss function** that tells us how bad our model predictions are. We then:\n",
    "\n",
    "1. **Compute the gradient of the loss** with respect to model parameters.\n",
    "2. **Update parameters** in the direction that reduces the loss.\n",
    "\n",
    "Autodiff handles step 1 automatically, which would otherwise be messy and error-prone.\n",
    "\n",
    "### Summary\n",
    "\n",
    "| Feature               | Autodiff                            |\n",
    "|----------------------|-------------------------------------|\n",
    "| Accuracy             | Very high (uses exact chain rule)   |\n",
    "| Speed                | Very fast (especially in reverse mode) |\n",
    "| Use in ML            | Essential for training models       |\n",
    "| Example Frameworks   | PyTorch, TensorFlow, JAX            |"
   ]
  },
  {
   "cell_type": "markdown",
   "id": "b64f153e-7a05-481a-bd84-10218582a0ac",
   "metadata": {},
   "source": [
    "### Example"
   ]
  },
  {
   "cell_type": "code",
   "execution_count": 1,
   "id": "55ebce27-1516-4cab-9bf8-3bffb68e119b",
   "metadata": {},
   "outputs": [
    {
     "name": "stdout",
     "output_type": "stream",
     "text": [
      "tensor(7.)\n"
     ]
    }
   ],
   "source": [
    "import torch\n",
    "\n",
    "# Create a tensor with gradient tracking\n",
    "x = torch.tensor(2.0, requires_grad=True)\n",
    "\n",
    "# Define a function\n",
    "y = x**2 + 3 * x + 5\n",
    "\n",
    "# Compute the derivative of y with respect to x\n",
    "y.backward()\n",
    "\n",
    "# Print the gradient dy/dx\n",
    "print(x.grad)  # Should print 2*x + 3 = 2*2 + 3 = 7"
   ]
  },
  {
   "cell_type": "markdown",
   "id": "82c61188-78b3-43d6-996d-15b487b56b3d",
   "metadata": {},
   "source": [
    "### Finite Difference Method\n",
    "\n",
    "This method approximates the derivative using:\n",
    "\n",
    "$$f'(x) \\approx \\frac{f(x + h) - f(x)}{h}$$\n",
    "\n",
    "where $$h$$ is a small number (step size).\n",
    "\n",
    "Let’s use the same function:\n",
    "\n",
    "$$f(x) = x^2 + 3x + 5$$\n",
    "\n",
    "and evaluate its derivative at $x = 2$."
   ]
  },
  {
   "cell_type": "markdown",
   "id": "efb469dd-47db-4957-81b9-d7b5db5e1b85",
   "metadata": {},
   "source": [
    "### Finite difference vs auto-diff"
   ]
  },
  {
   "cell_type": "code",
   "execution_count": 2,
   "id": "6147a8f3-566a-4d72-a189-5c0e1c1855fe",
   "metadata": {},
   "outputs": [
    {
     "name": "stdout",
     "output_type": "stream",
     "text": [
      "Autodiff Gradient:       7.000000\n",
      "Finite Difference Grad:  7.000010\n"
     ]
    }
   ],
   "source": [
    "import torch\n",
    "\n",
    "# AutoDiff method (PyTorch)\n",
    "x = torch.tensor(2.0, requires_grad=True)\n",
    "y = x**2 + 3 * x + 5\n",
    "y.backward()\n",
    "autodiff_grad = x.grad.item()\n",
    "\n",
    "# Finite difference method\n",
    "def f(x):\n",
    "    return x**2 + 3 * x + 5\n",
    "\n",
    "x_val = 2.0\n",
    "h = 1e-5\n",
    "finite_diff_grad = (f(x_val + h) - f(x_val)) / h\n",
    "\n",
    "print(f\"Autodiff Gradient:       {autodiff_grad:.6f}\")\n",
    "print(f\"Finite Difference Grad:  {finite_diff_grad:.6f}\")"
   ]
  },
  {
   "cell_type": "markdown",
   "id": "214ba180-374a-48bb-b1a6-0f596e94ccd3",
   "metadata": {},
   "source": [
    "### Conclusion\n",
    "\n",
    "- **Autodiff** is **exact** up to floating-point precision.\n",
    "- **Finite difference** is approximate and can suffer from numerical errors if $h$ is too large or too small.\n",
    "- In machine learning, where we deal with millions of parameters, **autodiff is the gold standard** for gradient computation."
   ]
  }
 ],
 "metadata": {
  "kernelspec": {
   "display_name": "Python 3 (ipykernel)",
   "language": "python",
   "name": "python3"
  },
  "language_info": {
   "codemirror_mode": {
    "name": "ipython",
    "version": 3
   },
   "file_extension": ".py",
   "mimetype": "text/x-python",
   "name": "python",
   "nbconvert_exporter": "python",
   "pygments_lexer": "ipython3",
   "version": "3.11.6"
  }
 },
 "nbformat": 4,
 "nbformat_minor": 5
}
